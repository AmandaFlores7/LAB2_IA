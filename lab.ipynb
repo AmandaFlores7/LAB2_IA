{
 "cells": [
  {
   "attachments": {},
   "cell_type": "markdown",
   "metadata": {},
   "source": [
    "# Analisis Exploratorio de Datos"
   ]
  },
  {
   "attachments": {},
   "cell_type": "markdown",
   "metadata": {},
   "source": [
    "## Importar datos, librerias y creación de funciones"
   ]
  },
  {
   "cell_type": "code",
   "execution_count": null,
   "metadata": {},
   "outputs": [],
   "source": [
    "# Importar librerias\n",
    "import numpy as np\n",
    "import pandas as pd\n",
    "import matplotlib.pyplot as plt\n",
    "import seaborn as sns\n",
    "from sklearn.model_selection import train_test_split\n",
    "from sklearn.preprocessing import MinMaxScaler\n"
   ]
  },
  {
   "cell_type": "code",
   "execution_count": null,
   "metadata": {},
   "outputs": [],
   "source": [
    "# Cargar dataset redWine y whiteWine\n",
    "redWine = pd.read_csv('winequality-red.csv', sep=';')\n",
    "whiteWine = pd.read_csv('winequality-white.csv', sep=';')"
   ]
  },
  {
   "cell_type": "code",
   "execution_count": null,
   "metadata": {},
   "outputs": [],
   "source": [
    "# Funcion para mostrar histograma y boxplot de un atributo\n",
    "def histograma_boxplot(dataset, atributo):\n",
    "  plt.figure(figsize=(10,4))\n",
    "\n",
    "  plt.subplot(1,2,1)\n",
    "  sns.histplot(dataset[atributo])\n",
    "\n",
    "  plt.subplot(1,2,2)\n",
    "  sns.boxplot(data=dataset[atributo])"
   ]
  },
  {
   "cell_type": "code",
   "execution_count": null,
   "metadata": {},
   "outputs": [],
   "source": [
    "# Funcion deteccion de outliers\n",
    "def deteccion_outliers(dataset):\n",
    "  cols = dataset.columns\n",
    "  for i in cols:\n",
    "    if i == 'type':\n",
    "      continue\n",
    "    q1 = dataset[i].quantile(0.25)\n",
    "    q3 = dataset[i].quantile(0.75)\n",
    "    iqr = q3 - q1\n",
    "    lim_inf = q1 - 1.5 * iqr\n",
    "    lim_sup = q3 + 1.5 * iqr\n",
    "    outliers = dataset[(dataset[i] < lim_inf) | (dataset[i] > lim_sup)].shape[0]\n",
    "    print(f\"El atributo {i} tiene {outliers} outliers\")"
   ]
  },
  {
   "cell_type": "code",
   "execution_count": null,
   "metadata": {},
   "outputs": [],
   "source": [
    "# Funcion resumen de datos\n",
    "def resumen_datos(dataset):\n",
    "  print(\"Cantidad de datos en wine: \", dataset.shape[0])\n",
    "  print(\"Calidad media de vinos: \", dataset['quality'].mean())\n",
    "  print(\"Cantidad de vinos con calidad mayor a la media: \", dataset[dataset['quality'] > dataset['quality'].mean()].shape[0])\n",
    "  print(\"Cantidad de vinos con calidad menor a la media: \", dataset[dataset['quality'] < dataset['quality'].mean()].shape[0])\n",
    "  print(\"La desviacion estandar de la calidad de los vinos es: \", dataset['quality'].std())\n",
    "  print(\"La calidad minima de los vinos es: \", dataset['quality'].min())\n",
    "  print(\"La calidad maxima de los vinos es: \", dataset['quality'].max())\n",
    "  print(\"El 25% de los vinos tiene una calidad menor a: \", dataset['quality'].quantile(0.25))\n",
    "  print(\"El 75% de los vinos tiene una calidad mayor a: \", dataset['quality'].quantile(0.75))\n",
    "  print(\"El ultimo 25% de los vinos tiene una calidad entre \", dataset['quality'].quantile(0.25), \" y \", dataset['quality'].quantile(0.75))\n",
    "  print(\"La mayor concentracion de vinos se encuentra entre \", dataset['quality'].quantile(0.25), \" y \", dataset['quality'].quantile(0.75))"
   ]
  },
  {
   "cell_type": "code",
   "execution_count": null,
   "metadata": {},
   "outputs": [],
   "source": [
    "# Funcion detección de asimetria\n",
    "def deteccion_asimetria(dataset):\n",
    "  cols = dataset.columns\n",
    "  for i in cols:\n",
    "    if i == 'type':\n",
    "      continue\n",
    "    print(f\"El atributo {i} tiene una asimetria de {dataset[i].skew()}\")"
   ]
  },
  {
   "cell_type": "code",
   "execution_count": null,
   "metadata": {},
   "outputs": [],
   "source": [
    "# Funcion mostrar mayor correlacion entre atributos\n",
    "def mayor_correlacion(dataset, max_valor = 0, atributo = ''):\n",
    "  corr = dataset.corr()\n",
    "  if atributo != '':\n",
    "    corr_quality = corr[[atributo]].copy()\n",
    "    corr_quality['abs_corr'] = corr_quality[atributo].abs()\n",
    "    corr_quality = corr_quality[corr_quality['abs_corr'] != 1]  # Excluir correlaciones igual a 1\n",
    "    corr_quality = corr_quality.sort_values('abs_corr', ascending=False).head(3)\n",
    "\n",
    "    print(corr_quality)\n",
    "  elif max_valor != 0:\n",
    "    max_valor = abs(max_valor)\n",
    "    high_corr = corr[(corr > max_valor) | (corr < -max_valor)]\n",
    "    high_corr = high_corr.stack().reset_index()\n",
    "    high_corr['abs_corr'] = high_corr[0].abs()\n",
    "    high_corr = high_corr[high_corr[0] != 1]  # Filtrar correlaciones diferentes de 1\n",
    "    high_corr = high_corr.sort_values('abs_corr', ascending=False).drop_duplicates(0)\n",
    "    print(high_corr)"
   ]
  },
  {
   "attachments": {},
   "cell_type": "markdown",
   "metadata": {},
   "source": [
    "## Analisis de los datos de Red Wine"
   ]
  },
  {
   "attachments": {},
   "cell_type": "markdown",
   "metadata": {},
   "source": [
    "### Resumen de Datos"
   ]
  },
  {
   "cell_type": "code",
   "execution_count": null,
   "metadata": {},
   "outputs": [],
   "source": [
    "# Observar dataset redWine\n",
    "redWine.head()"
   ]
  },
  {
   "cell_type": "code",
   "execution_count": null,
   "metadata": {},
   "outputs": [],
   "source": [
    "# Cantidad de datos en redWine y whiteWine\n",
    "print(\"Cantidad de datos en redWine: \", redWine.shape[0])"
   ]
  },
  {
   "cell_type": "code",
   "execution_count": null,
   "metadata": {},
   "outputs": [],
   "source": [
    "# Tipos de datos en redWine\n",
    "print(\"Red Wine:\")\n",
    "redWine.info()"
   ]
  },
  {
   "attachments": {},
   "cell_type": "markdown",
   "metadata": {},
   "source": [
    "Se observa que no es necesario hacer algun cambio en los datos, ya que no hay datos categoricos"
   ]
  },
  {
   "cell_type": "code",
   "execution_count": null,
   "metadata": {},
   "outputs": [],
   "source": [
    "# Resumen de datos en relacion de RedWine en base al atributo 'quality'\n",
    "resumen_datos(redWine)"
   ]
  },
  {
   "attachments": {},
   "cell_type": "markdown",
   "metadata": {},
   "source": [
    "### Graficos de Histogramas y Boxplots"
   ]
  },
  {
   "cell_type": "code",
   "execution_count": null,
   "metadata": {},
   "outputs": [],
   "source": [
    "# Cantidades de vinos por calidad\n",
    "sns.countplot(x='quality', data=redWine)"
   ]
  },
  {
   "cell_type": "code",
   "execution_count": null,
   "metadata": {},
   "outputs": [],
   "source": [
    "# Por cada atributo, mostrar histograma y boxplot\n",
    "for atributo in redWine.columns:\n",
    "  histograma_boxplot(redWine, atributo)"
   ]
  },
  {
   "attachments": {},
   "cell_type": "markdown",
   "metadata": {},
   "source": [
    "### Deteccion de Outliers"
   ]
  },
  {
   "cell_type": "code",
   "execution_count": null,
   "metadata": {},
   "outputs": [],
   "source": [
    "# Deteccion de outliers en wine\n",
    "deteccion_outliers(redWine)"
   ]
  },
  {
   "attachments": {},
   "cell_type": "markdown",
   "metadata": {},
   "source": [
    "### Analisis Asimetrías"
   ]
  },
  {
   "cell_type": "code",
   "execution_count": null,
   "metadata": {},
   "outputs": [],
   "source": [
    "# Detectar asimetria en redWine\n",
    "deteccion_asimetria(redWine)"
   ]
  },
  {
   "attachments": {},
   "cell_type": "markdown",
   "metadata": {},
   "source": [
    "### Analisis de Correlaciones entre variables"
   ]
  },
  {
   "cell_type": "code",
   "execution_count": null,
   "metadata": {},
   "outputs": [],
   "source": [
    "# Coeficiente de correlación de Pearson\n",
    "plt.figure(figsize=(10,10))\n",
    "sns.heatmap(redWine.corr(method='pearson'), annot=True, cmap='RdYlGn')\n",
    "plt.show()"
   ]
  },
  {
   "cell_type": "code",
   "execution_count": null,
   "metadata": {},
   "outputs": [],
   "source": [
    "# Atributos con mayor correlacion entre ellos\n",
    "mayor_correlacion(redWine, max_valor=0.6)"
   ]
  },
  {
   "attachments": {},
   "cell_type": "markdown",
   "metadata": {},
   "source": [
    "### Analisis de Correlaciones en relacion a la variable Quality"
   ]
  },
  {
   "cell_type": "code",
   "execution_count": null,
   "metadata": {},
   "outputs": [],
   "source": [
    "# Correlacion con la variable 'quality' del dataset wine a través de un mapa de calor\n",
    "plt.figure(figsize=(5,5))\n",
    "sns.heatmap(redWine.corr()[['quality']], annot=True, cmap='RdYlGn')\n",
    "plt.show()"
   ]
  },
  {
   "cell_type": "code",
   "execution_count": null,
   "metadata": {},
   "outputs": [],
   "source": [
    "# Atributos con mayor correlacion con 'quality'\n",
    "mayor_correlacion(redWine, atributo='quality')"
   ]
  },
  {
   "attachments": {},
   "cell_type": "markdown",
   "metadata": {},
   "source": [
    "## Analisis de los datos de White Wine"
   ]
  },
  {
   "cell_type": "markdown",
   "metadata": {},
   "source": [
    "### Resumen de Datos"
   ]
  },
  {
   "cell_type": "code",
   "execution_count": null,
   "metadata": {},
   "outputs": [],
   "source": [
    "# Observar dataset WhiteWine\n",
    "whiteWine.head()"
   ]
  },
  {
   "cell_type": "code",
   "execution_count": null,
   "metadata": {},
   "outputs": [],
   "source": [
    "# Cantidad de datos en whiteWine\n",
    "print(\"Cantidad de datos en redWine: \", whiteWine.shape[0])"
   ]
  },
  {
   "cell_type": "code",
   "execution_count": null,
   "metadata": {},
   "outputs": [],
   "source": [
    "# Tipos de datos en WhiteWine\n",
    "print(\"White Wine:\")\n",
    "whiteWine.info()"
   ]
  },
  {
   "cell_type": "markdown",
   "metadata": {},
   "source": [
    "Se observa que no es necesario hacer algun cambio en los datos, ya que no hay datos categoricos"
   ]
  },
  {
   "cell_type": "code",
   "execution_count": null,
   "metadata": {},
   "outputs": [],
   "source": [
    "# Resumen de datos en relacion de WhiteWine en base al atributo 'quality'\n",
    "resumen_datos(whiteWine)"
   ]
  },
  {
   "cell_type": "markdown",
   "metadata": {},
   "source": [
    "### Graficos de Histogramas y Boxplots"
   ]
  },
  {
   "cell_type": "code",
   "execution_count": null,
   "metadata": {},
   "outputs": [],
   "source": [
    "# Cantidades de vinos por calidad\n",
    "sns.countplot(x='quality', data=whiteWine)"
   ]
  },
  {
   "cell_type": "code",
   "execution_count": null,
   "metadata": {},
   "outputs": [],
   "source": [
    "# Por cada atributo, mostrar histograma y boxplot\n",
    "for atributo in whiteWine.columns:\n",
    "  histograma_boxplot(whiteWine, atributo)"
   ]
  },
  {
   "cell_type": "markdown",
   "metadata": {},
   "source": [
    "### Deteccion de Outliers"
   ]
  },
  {
   "cell_type": "code",
   "execution_count": null,
   "metadata": {},
   "outputs": [],
   "source": [
    "# Deteccion de outliers en wine\n",
    "deteccion_outliers(whiteWine)"
   ]
  },
  {
   "cell_type": "markdown",
   "metadata": {},
   "source": [
    "### Analisis Asimetrías"
   ]
  },
  {
   "cell_type": "code",
   "execution_count": null,
   "metadata": {},
   "outputs": [],
   "source": [
    "# Detectar asimetria en redWine\n",
    "deteccion_asimetria(whiteWine)"
   ]
  },
  {
   "cell_type": "markdown",
   "metadata": {},
   "source": [
    "### Analisis de Correlaciones entre variables"
   ]
  },
  {
   "cell_type": "code",
   "execution_count": null,
   "metadata": {},
   "outputs": [],
   "source": [
    "# Coeficiente de correlación de Pearson\n",
    "plt.figure(figsize=(10,10))\n",
    "sns.heatmap(whiteWine.corr(method='pearson'), annot=True, cmap='RdYlGn')\n",
    "plt.show()"
   ]
  },
  {
   "cell_type": "code",
   "execution_count": null,
   "metadata": {},
   "outputs": [],
   "source": [
    "# Atributos con mayor correlacion entre ellos\n",
    "mayor_correlacion(whiteWine, max_valor=0.6)"
   ]
  },
  {
   "cell_type": "markdown",
   "metadata": {},
   "source": [
    "### Analisis de Correlaciones en relacion a la variable Quality"
   ]
  },
  {
   "cell_type": "code",
   "execution_count": null,
   "metadata": {},
   "outputs": [],
   "source": [
    "# Correlacion con la variable 'quality' del dataset wine a través de un mapa de calor\n",
    "plt.figure(figsize=(5,5))\n",
    "sns.heatmap(whiteWine.corr()[['quality']], annot=True, cmap='RdYlGn')\n",
    "plt.show()"
   ]
  },
  {
   "cell_type": "code",
   "execution_count": null,
   "metadata": {},
   "outputs": [],
   "source": [
    "# Atributos con mayor correlacion con 'quality'\n",
    "mayor_correlacion(whiteWine, atributo='quality')"
   ]
  },
  {
   "cell_type": "markdown",
   "metadata": {},
   "source": [
    "# Procesamiento de datos"
   ]
  },
  {
   "attachments": {},
   "cell_type": "markdown",
   "metadata": {},
   "source": [
    "## Funciones "
   ]
  },
  {
   "cell_type": "code",
   "execution_count": null,
   "metadata": {},
   "outputs": [],
   "source": [
    "# Función de entrenamiento utilizando descenso de gradiente por lotes\n",
    "def train_linear_regression(X, y, learning_rate, num_iterations, tipo='simple'):\n",
    "    # Inicializa los parámetros del modelo\n",
    "    if tipo == 'simple':\n",
    "        theta0 = 0.0\n",
    "        theta1 = 0.0\n",
    "    elif tipo == 'multiple':\n",
    "        theta = np.zeros(X.shape[1]+1)\n",
    "        \n",
    "    m = len(X)\n",
    "\n",
    "    # Descenso de gradiente\n",
    "    for _ in range(num_iterations):\n",
    "        if tipo == 'simple':\n",
    "            # Calcula las predicciones y el error\n",
    "            y_pred = theta0 + theta1 * X\n",
    "            error = y_pred - y\n",
    "\n",
    "            # Actualiza los parámetros utilizando el gradiente\n",
    "            theta0 -= (learning_rate / m) * np.sum(error)\n",
    "            theta1 -= (learning_rate / m) * np.sum(error * X)\n",
    "        elif tipo == 'multiple':\n",
    "            # Calcula las predicciones y el error\n",
    "            X_with_bias = np.column_stack((np.ones((m, 1)), X))\n",
    "            y_pred = np.dot(X_with_bias, theta)\n",
    "            error = y_pred - y\n",
    "            \n",
    "            # Actualiza los parámetros utilizando el gradiente\n",
    "            theta -= (learning_rate / m) * np.dot(X_with_bias.T, error)\n",
    "    \n",
    "    if tipo == 'simple':\n",
    "        return theta0, theta1\n",
    "    elif tipo == 'multiple':\n",
    "        return theta"
   ]
  },
  {
   "cell_type": "code",
   "execution_count": null,
   "metadata": {},
   "outputs": [],
   "source": [
    "# Función de entrenamiento utilizando descenso de gradiente estocástico\n",
    "def train_linear_regression_stochastic(X, y, learning_rate, num_iterations):\n",
    "    # Inicializa los parámetros del modelo\n",
    "    theta0 = 0.0\n",
    "    theta1 = 0.0\n",
    "    m = len(X)\n",
    "\n",
    "    # Descenso de gradiente estocástico\n",
    "    for _ in range(num_iterations):\n",
    "        # Selecciona una muestra aleatoria\n",
    "        random_index = np.random.randint(0, m)\n",
    "        X_sample = X[random_index]\n",
    "        y_sample = y[random_index]\n",
    "\n",
    "        # Calcula la predicción y el error para la muestra seleccionada\n",
    "        y_pred = theta0 + theta1 * X_sample\n",
    "        error = y_pred - y_sample\n",
    "\n",
    "        # Actualiza los parámetros utilizando el gradiente de la muestra seleccionada\n",
    "        theta0 -= learning_rate * error\n",
    "        theta1 -= learning_rate * error * X_sample\n",
    "\n",
    "    return theta0, theta1"
   ]
  },
  {
   "cell_type": "code",
   "execution_count": null,
   "metadata": {},
   "outputs": [],
   "source": [
    "  # Función para hacer predicciones\n",
    "  def predict(X, theta = '', theta0 = '', theta1 = '', tipo_regresion='simple'):\n",
    "    if tipo_regresion == 'simple':\n",
    "      return theta0 + theta1 * X\n",
    "    elif tipo_regresion == 'multiple':\n",
    "      X_with_bias = np.column_stack([np.ones((len(X), 1)), X])  # Añade una columna de unos para el término de sesgo\n",
    "      return np.dot(X_with_bias, theta)"
   ]
  },
  {
   "cell_type": "code",
   "execution_count": null,
   "metadata": {},
   "outputs": [],
   "source": [
    "# Cálculo de las métricas de evaluación\n",
    "def mse(y_true, y_pred):\n",
    "    return np.mean((y_true - y_pred) ** 2)\n",
    "\n",
    "def rmse(y_true, y_pred):\n",
    "    return np.sqrt(mse(y_true, y_pred))\n",
    "\n",
    "def mae(y_true, y_pred):\n",
    "    return np.mean(np.abs(y_true - y_pred))\n",
    "\n",
    "def r_squared(y_true, y_pred):\n",
    "    ssr = np.sum((y_true - y_pred) ** 2)\n",
    "    sst = np.sum((y_true - np.mean(y_true)) ** 2)\n",
    "    return 1 - (ssr / sst)\n",
    "\n",
    "def adjusted_r_squared(y_true, y_pred, num_features):\n",
    "    r2 = r_squared(y_true, y_pred)\n",
    "    n = len(y_true)\n",
    "    return 1 - ((1 - r2) * (n - 1) / (n - num_features - 1))"
   ]
  },
  {
   "cell_type": "code",
   "execution_count": null,
   "metadata": {},
   "outputs": [],
   "source": [
    "# Funcion de regresion lineal simple\n",
    "def regresion_lineal_simple(data, atributo, tipo_entrenamiento, tipo_regresion='simple'):\n",
    "  # División de datos en entrenamiento y prueba (80% entrenamiento, 20% prueba)\n",
    "  train_size = int(0.8 * len(data))\n",
    "  train_data = data[:train_size]\n",
    "  test_data = data[train_size:]\n",
    "\n",
    "  # Extrae las características y las etiquetas de entrenamiento y prueba\n",
    "  train_X = train_data[atributo].values\n",
    "  train_y = train_data['quality'].values\n",
    "  test_X = test_data[atributo].values\n",
    "  test_y = test_data['quality'].values\n",
    "  \n",
    "  if tipo_regresion == 'multiple':\n",
    "    # Normalización de los datos de entrenamiento\n",
    "    scaler = MinMaxScaler()\n",
    "    train_X = scaler.fit_transform(train_X)\n",
    "\n",
    "    # Normalización de los datos de prueba\n",
    "    test_X = scaler.transform(test_X)\n",
    "\n",
    "  # Hiperparámetros del modelo\n",
    "  learning_rate = 0.01\n",
    "  num_iterations = 1000\n",
    "\n",
    "  # Entrena el modelo utilizando los datos de entrenamiento\n",
    "  if tipo_entrenamiento == 'batch' and tipo_regresion == 'simple':\n",
    "    theta0, theta1 = train_linear_regression(train_X, train_y, learning_rate, num_iterations)\n",
    "  elif tipo_entrenamiento == 'batch' and tipo_regresion == 'multiple':\n",
    "    theta = train_linear_regression(train_X, train_y, learning_rate, num_iterations, tipo='multiple')\n",
    "  elif tipo_entrenamiento == 'stochastic':\n",
    "    theta0, theta1 = train_linear_regression_stochastic(train_X, train_y, learning_rate, num_iterations)\n",
    "    \n",
    "  # Realiza predicciones en los conjuntos de entrenamiento y prueba\n",
    "  if tipo_regresion == 'simple':\n",
    "    train_predictions = predict(train_X, theta0=theta0, theta1=theta1)\n",
    "    test_predictions = predict(test_X, theta0=theta0, theta1=theta1)\n",
    "  elif tipo_regresion == 'multiple':\n",
    "    train_predictions = predict(train_X, theta=theta, tipo_regresion=tipo_regresion)\n",
    "    test_predictions = predict(test_X, theta=theta, tipo_regresion=tipo_regresion)\n",
    "\n",
    "  # Calcular métricas de evaluación en los conjuntos de entrenamiento y prueba\n",
    "  if tipo_regresion == 'simple':\n",
    "    num_features = 1\n",
    "  elif tipo_regresion == 'multiple':\n",
    "    num_features = 3\n",
    "    \n",
    "  train_mse = mse(train_y, train_predictions)\n",
    "  train_rmse = rmse(train_y, train_predictions)\n",
    "  train_mae = mae(train_y, train_predictions)\n",
    "  train_r2 = r_squared(train_y, train_predictions)\n",
    "  train_adjusted_r2 = adjusted_r_squared(train_y, train_predictions, num_features)\n",
    "\n",
    "  test_mse = mse(test_y, test_predictions)\n",
    "  test_rmse = rmse(test_y, test_predictions)\n",
    "  test_mae = mae(test_y, test_predictions)\n",
    "  test_r2 = r_squared(test_y, test_predictions)\n",
    "  test_adjusted_r2 = adjusted_r_squared(test_y, test_predictions, num_features)\n",
    "\n",
    "  # Imprimir las métricas de evaluación\n",
    "  print(\"Métricas de evaluación (conjunto de entrenamiento):\")\n",
    "  print(\"MSE:\", train_mse)\n",
    "  print(\"RMSE:\", train_rmse)\n",
    "  print(\"MAE:\", train_mae)\n",
    "  print(\"R^2:\", train_r2)\n",
    "  print(\"R^2 ajustado:\", train_adjusted_r2)\n",
    "  print(\"--------------------------------------------\")\n",
    "  print(\"Métricas de evaluación (conjunto de prueba):\")\n",
    "  print(\"MSE:\", test_mse)\n",
    "  print(\"RMSE:\", test_rmse)\n",
    "  print(\"MAE:\", test_mae)\n",
    "  print(\"R^2:\", test_r2)\n",
    "  print(\"R^2 ajustado:\", test_adjusted_r2)\n",
    "  \n",
    "  if tipo_regresion == 'simple':\n",
    "    # Gráfico de la regresión\n",
    "    plt.scatter(train_X, train_y, color='blue', label='Training Data')\n",
    "    #plt.scatter(test_X, test_y, color='red', label='Test Data')\n",
    "    plt.plot(train_X, train_predictions, color='green', label='Regression Line')\n",
    "    plt.xlabel('X')\n",
    "    plt.ylabel('Y')\n",
    "    plt.title('Regresión lineal simple')\n",
    "    plt.legend()\n",
    "    plt.show()\n",
    "  elif tipo_regresion == 'multiple':\n",
    "    # plt.scatter(train_X[:, 0], train_y, color='blue', label='Training Data')\n",
    "    # #plt.scatter(test_X[:, 0], test_y, color='red', label='Test Data')\n",
    "    # plt.plot(train_X[:, 0], train_predictions, color='green', label='Regression Line')\n",
    "    # plt.xlabel('X')\n",
    "    # plt.ylabel('Y')\n",
    "    # plt.title('Regresión lineal con múltiples variables')\n",
    "    # plt.legend()\n",
    "    # plt.show()\n",
    "    # Grafico de los datos de entrenamiento en 3D\n",
    "    fig = plt.figure()\n",
    "    ax = fig.add_subplot(111, projection='3d')\n",
    "    ax.scatter(train_X[:, 0], train_X[:, 1], train_X[:, 2], c=train_y, cmap='viridis')\n",
    "    ax.set_xlabel('Alcohol')\n",
    "    ax.set_ylabel('Fixed Acidity')\n",
    "    ax.set_zlabel('Volatile Acidity')\n",
    "    ax.set_title('Datos de entrenamiento')\n",
    "    plt.show()\n",
    "    "
   ]
  },
  {
   "cell_type": "markdown",
   "metadata": {},
   "source": [
    "## Regresión lineal simple usando batch gradient descent"
   ]
  },
  {
   "cell_type": "code",
   "execution_count": null,
   "metadata": {},
   "outputs": [],
   "source": [
    "from mpl_toolkits.mplot3d import Axes3D"
   ]
  },
  {
   "attachments": {},
   "cell_type": "markdown",
   "metadata": {},
   "source": [
    "### Para el Red Wine"
   ]
  },
  {
   "attachments": {},
   "cell_type": "markdown",
   "metadata": {},
   "source": [
    "#### Para el atributo Alcohol"
   ]
  },
  {
   "cell_type": "code",
   "execution_count": null,
   "metadata": {},
   "outputs": [],
   "source": [
    "regresion_lineal_simple(redWine, 'alcohol', 'batch')"
   ]
  },
  {
   "cell_type": "code",
   "execution_count": null,
   "metadata": {},
   "outputs": [],
   "source": [
    "# lista de atributos\n",
    "atributos = ['alcohol', 'volatile acidity', 'pH']\n",
    "regresion_lineal_simple(redWine, atributos, 'batch', 'multiple')"
   ]
  },
  {
   "attachments": {},
   "cell_type": "markdown",
   "metadata": {},
   "source": [
    "#### Para el atributo Acidez Volatil"
   ]
  },
  {
   "cell_type": "code",
   "execution_count": null,
   "metadata": {},
   "outputs": [],
   "source": [
    "regresion_lineal_simple(redWine, 'volatile acidity', 'batch')"
   ]
  },
  {
   "attachments": {},
   "cell_type": "markdown",
   "metadata": {},
   "source": [
    "#### Para el atributo Sufates"
   ]
  },
  {
   "cell_type": "code",
   "execution_count": null,
   "metadata": {},
   "outputs": [],
   "source": [
    "regresion_lineal_simple(redWine, 'sulphates', 'batch')"
   ]
  },
  {
   "attachments": {},
   "cell_type": "markdown",
   "metadata": {},
   "source": [
    "### Para el White Wine"
   ]
  },
  {
   "cell_type": "markdown",
   "metadata": {},
   "source": [
    "#### Para el atributo Alcohol"
   ]
  },
  {
   "cell_type": "markdown",
   "metadata": {},
   "source": [
    "#### Para el atributo Acidez Volatil"
   ]
  },
  {
   "cell_type": "markdown",
   "metadata": {},
   "source": [
    "#### Para el atributo Sufates"
   ]
  },
  {
   "cell_type": "markdown",
   "metadata": {},
   "source": [
    "## Regresion lineal simple usando stochastic gradient descent"
   ]
  },
  {
   "cell_type": "markdown",
   "metadata": {},
   "source": [
    "### Para el White Wine"
   ]
  },
  {
   "attachments": {},
   "cell_type": "markdown",
   "metadata": {},
   "source": [
    "#### Para el atributo Alcohol"
   ]
  },
  {
   "cell_type": "code",
   "execution_count": null,
   "metadata": {},
   "outputs": [],
   "source": [
    "regresion_lineal_simple(redWine, 'alcohol', 'stochastic')"
   ]
  },
  {
   "cell_type": "markdown",
   "metadata": {},
   "source": [
    "#### Para el atributo Acidez Volatil"
   ]
  },
  {
   "cell_type": "markdown",
   "metadata": {},
   "source": [
    "#### Para el atributo Density"
   ]
  },
  {
   "cell_type": "markdown",
   "metadata": {},
   "source": [
    "### Para el Red Wine"
   ]
  },
  {
   "cell_type": "markdown",
   "metadata": {},
   "source": [
    "#### Para el atributo Alcohol"
   ]
  },
  {
   "cell_type": "markdown",
   "metadata": {},
   "source": [
    "#### Para el atributo Acidez Volatil"
   ]
  },
  {
   "cell_type": "markdown",
   "metadata": {},
   "source": [
    "#### Para el atributo Density"
   ]
  },
  {
   "attachments": {},
   "cell_type": "markdown",
   "metadata": {},
   "source": [
    "## Analisis de los resultados para White Wine"
   ]
  },
  {
   "attachments": {},
   "cell_type": "markdown",
   "metadata": {},
   "source": [
    "## Analisis de los resultados para Red Wine"
   ]
  },
  {
   "attachments": {},
   "cell_type": "markdown",
   "metadata": {},
   "source": [
    "## Regresion Linear Multiple Batch Gradient Descent"
   ]
  },
  {
   "attachments": {},
   "cell_type": "markdown",
   "metadata": {},
   "source": [
    "## Regresion Linear Multiple Estocastica"
   ]
  },
  {
   "attachments": {},
   "cell_type": "markdown",
   "metadata": {},
   "source": [
    "# OTRAS WEAS"
   ]
  }
 ],
 "metadata": {
  "kernelspec": {
   "display_name": "base",
   "language": "python",
   "name": "python3"
  },
  "language_info": {
   "codemirror_mode": {
    "name": "ipython",
    "version": 3
   },
   "file_extension": ".py",
   "mimetype": "text/x-python",
   "name": "python",
   "nbconvert_exporter": "python",
   "pygments_lexer": "ipython3",
   "version": "3.10.11"
  },
  "orig_nbformat": 4
 },
 "nbformat": 4,
 "nbformat_minor": 2
}
