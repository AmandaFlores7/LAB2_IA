{
 "cells": [
  {
   "attachments": {},
   "cell_type": "markdown",
   "metadata": {},
   "source": [
    "# Analisis Exploratorio de Datos"
   ]
  },
  {
   "attachments": {},
   "cell_type": "markdown",
   "metadata": {},
   "source": [
    "## Importar datos, librerias y creación de funciones"
   ]
  },
  {
   "cell_type": "code",
   "execution_count": null,
   "metadata": {},
   "outputs": [],
   "source": [
    "# Importar librerias\n",
    "import numpy as np\n",
    "import pandas as pd\n",
    "import matplotlib.pyplot as plt\n",
    "import seaborn as sns\n",
    "from sklearn.model_selection import train_test_split\n"
   ]
  },
  {
   "cell_type": "code",
   "execution_count": null,
   "metadata": {},
   "outputs": [],
   "source": [
    "# Cargar dataset redWine y whiteWine\n",
    "redWine = pd.read_csv('winequality-red.csv', sep=';')\n",
    "whiteWine = pd.read_csv('winequality-white.csv', sep=';')"
   ]
  },
  {
   "cell_type": "code",
   "execution_count": null,
   "metadata": {},
   "outputs": [],
   "source": [
    "# Funcion para mostrar histograma y boxplot de un atributo\n",
    "def histograma_boxplot(dataset, atributo):\n",
    "  plt.figure(figsize=(10,4))\n",
    "\n",
    "  plt.subplot(1,2,1)\n",
    "  sns.histplot(dataset[atributo])\n",
    "\n",
    "  plt.subplot(1,2,2)\n",
    "  sns.boxplot(data=dataset[atributo])"
   ]
  },
  {
   "cell_type": "code",
   "execution_count": null,
   "metadata": {},
   "outputs": [],
   "source": [
    "# Funcion deteccion de outliers\n",
    "def deteccion_outliers(dataset):\n",
    "  cols = dataset.columns\n",
    "  for i in cols:\n",
    "    if i == 'type':\n",
    "      continue\n",
    "    q1 = dataset[i].quantile(0.25)\n",
    "    q3 = dataset[i].quantile(0.75)\n",
    "    iqr = q3 - q1\n",
    "    lim_inf = q1 - 1.5 * iqr\n",
    "    lim_sup = q3 + 1.5 * iqr\n",
    "    outliers = dataset[(dataset[i] < lim_inf) | (dataset[i] > lim_sup)].shape[0]\n",
    "    print(f\"El atributo {i} tiene {outliers} outliers\")"
   ]
  },
  {
   "cell_type": "code",
   "execution_count": null,
   "metadata": {},
   "outputs": [],
   "source": [
    "# Funcion resumen de datos\n",
    "def resumen_datos(dataset):\n",
    "  print(\"Cantidad de datos en wine: \", dataset.shape[0])\n",
    "  print(\"Calidad media de vinos: \", dataset['quality'].mean())\n",
    "  print(\"Cantidad de vinos con calidad mayor a la media: \", dataset[dataset['quality'] > dataset['quality'].mean()].shape[0])\n",
    "  print(\"Cantidad de vinos con calidad menor a la media: \", dataset[dataset['quality'] < dataset['quality'].mean()].shape[0])\n",
    "  print(\"La desviacion estandar de la calidad de los vinos es: \", dataset['quality'].std())\n",
    "  print(\"La calidad minima de los vinos es: \", dataset['quality'].min())\n",
    "  print(\"La calidad maxima de los vinos es: \", dataset['quality'].max())\n",
    "  print(\"El 25% de los vinos tiene una calidad menor a: \", dataset['quality'].quantile(0.25))\n",
    "  print(\"El 75% de los vinos tiene una calidad mayor a: \", dataset['quality'].quantile(0.75))\n",
    "  print(\"El ultimo 25% de los vinos tiene una calidad entre \", dataset['quality'].quantile(0.25), \" y \", dataset['quality'].quantile(0.75))\n",
    "  print(\"La mayor concentracion de vinos se encuentra entre \", dataset['quality'].quantile(0.25), \" y \", dataset['quality'].quantile(0.75))"
   ]
  },
  {
   "cell_type": "code",
   "execution_count": null,
   "metadata": {},
   "outputs": [],
   "source": [
    "# Funcion detección de asimetria\n",
    "def deteccion_asimetria(dataset):\n",
    "  cols = dataset.columns\n",
    "  for i in cols:\n",
    "    if i == 'type':\n",
    "      continue\n",
    "    print(f\"El atributo {i} tiene una asimetria de {dataset[i].skew()}\")"
   ]
  },
  {
   "cell_type": "code",
   "execution_count": null,
   "metadata": {},
   "outputs": [],
   "source": [
    "# Funcion mostrar mayor correlacion entre atributos\n",
    "def mayor_correlacion(dataset, max_valor = 0, atributo = ''):\n",
    "  corr = dataset.corr()\n",
    "  if atributo != '':\n",
    "    corr_quality = corr[[atributo]].copy()\n",
    "    corr_quality['abs_corr'] = corr_quality[atributo].abs()\n",
    "    corr_quality = corr_quality[corr_quality['abs_corr'] != 1]  # Excluir correlaciones igual a 1\n",
    "    corr_quality = corr_quality.sort_values('abs_corr', ascending=False).head(3)\n",
    "\n",
    "    print(corr_quality)\n",
    "  elif max_valor != 0:\n",
    "    max_valor = abs(max_valor)\n",
    "    high_corr = corr[(corr > max_valor) | (corr < -max_valor)]\n",
    "    high_corr = high_corr.stack().reset_index()\n",
    "    high_corr['abs_corr'] = high_corr[0].abs()\n",
    "    high_corr = high_corr[high_corr[0] != 1]  # Filtrar correlaciones diferentes de 1\n",
    "    high_corr = high_corr.sort_values('abs_corr', ascending=False).drop_duplicates(0)\n",
    "    print(high_corr)"
   ]
  },
  {
   "attachments": {},
   "cell_type": "markdown",
   "metadata": {},
   "source": [
    "## Analisis de los datos de Red Wine"
   ]
  },
  {
   "attachments": {},
   "cell_type": "markdown",
   "metadata": {},
   "source": [
    "### Resumen de Datos"
   ]
  },
  {
   "cell_type": "code",
   "execution_count": null,
   "metadata": {},
   "outputs": [],
   "source": [
    "# Observar dataset redWine\n",
    "redWine.head()"
   ]
  },
  {
   "cell_type": "code",
   "execution_count": null,
   "metadata": {},
   "outputs": [],
   "source": [
    "# Cantidad de datos en redWine y whiteWine\n",
    "print(\"Cantidad de datos en redWine: \", redWine.shape[0])"
   ]
  },
  {
   "cell_type": "code",
   "execution_count": null,
   "metadata": {},
   "outputs": [],
   "source": [
    "# Tipos de datos en redWine\n",
    "print(\"Red Wine:\")\n",
    "redWine.info()"
   ]
  },
  {
   "attachments": {},
   "cell_type": "markdown",
   "metadata": {},
   "source": [
    "Se observa que no es necesario hacer algun cambio en los datos, ya que no hay datos categoricos"
   ]
  },
  {
   "cell_type": "code",
   "execution_count": null,
   "metadata": {},
   "outputs": [],
   "source": [
    "# Resumen de datos en relacion de RedWine en base al atributo 'quality'\n",
    "resumen_datos(redWine)"
   ]
  },
  {
   "attachments": {},
   "cell_type": "markdown",
   "metadata": {},
   "source": [
    "### Graficos de Histogramas y Boxplots"
   ]
  },
  {
   "cell_type": "code",
   "execution_count": null,
   "metadata": {},
   "outputs": [],
   "source": [
    "# Cantidades de vinos por calidad\n",
    "sns.countplot(x='quality', data=redWine)"
   ]
  },
  {
   "cell_type": "code",
   "execution_count": null,
   "metadata": {},
   "outputs": [],
   "source": [
    "# Por cada atributo, mostrar histograma y boxplot\n",
    "for atributo in redWine.columns:\n",
    "  histograma_boxplot(redWine, atributo)"
   ]
  },
  {
   "attachments": {},
   "cell_type": "markdown",
   "metadata": {},
   "source": [
    "### Deteccion de Outliers"
   ]
  },
  {
   "cell_type": "code",
   "execution_count": null,
   "metadata": {},
   "outputs": [],
   "source": [
    "# Deteccion de outliers en wine\n",
    "deteccion_outliers(redWine)"
   ]
  },
  {
   "attachments": {},
   "cell_type": "markdown",
   "metadata": {},
   "source": [
    "### Analisis Asimetrías"
   ]
  },
  {
   "cell_type": "code",
   "execution_count": null,
   "metadata": {},
   "outputs": [],
   "source": [
    "# Detectar asimetria en redWine\n",
    "deteccion_asimetria(redWine)"
   ]
  },
  {
   "attachments": {},
   "cell_type": "markdown",
   "metadata": {},
   "source": [
    "### Analisis de Correlaciones entre variables"
   ]
  },
  {
   "cell_type": "code",
   "execution_count": null,
   "metadata": {},
   "outputs": [],
   "source": [
    "# Coeficiente de correlación de Pearson\n",
    "plt.figure(figsize=(10,10))\n",
    "sns.heatmap(redWine.corr(method='pearson'), annot=True, cmap='RdYlGn')\n",
    "plt.show()"
   ]
  },
  {
   "cell_type": "code",
   "execution_count": null,
   "metadata": {},
   "outputs": [],
   "source": [
    "# Atributos con mayor correlacion entre ellos\n",
    "mayor_correlacion(redWine, max_valor=0.6)"
   ]
  },
  {
   "attachments": {},
   "cell_type": "markdown",
   "metadata": {},
   "source": [
    "### Analisis de Correlaciones en relacion a la variable Quality"
   ]
  },
  {
   "cell_type": "code",
   "execution_count": null,
   "metadata": {},
   "outputs": [],
   "source": [
    "# Correlacion con la variable 'quality' del dataset wine a través de un mapa de calor\n",
    "plt.figure(figsize=(5,5))\n",
    "sns.heatmap(redWine.corr()[['quality']], annot=True, cmap='RdYlGn')\n",
    "plt.show()"
   ]
  },
  {
   "cell_type": "code",
   "execution_count": null,
   "metadata": {},
   "outputs": [],
   "source": [
    "# Atributos con mayor correlacion con 'quality'\n",
    "mayor_correlacion(redWine, atributo='quality')"
   ]
  },
  {
   "attachments": {},
   "cell_type": "markdown",
   "metadata": {},
   "source": [
    "## Analisis de los datos de White Wine"
   ]
  },
  {
   "cell_type": "markdown",
   "metadata": {},
   "source": [
    "### Resumen de Datos"
   ]
  },
  {
   "cell_type": "code",
   "execution_count": null,
   "metadata": {},
   "outputs": [],
   "source": [
    "# Observar dataset WhiteWine\n",
    "whiteWine.head()"
   ]
  },
  {
   "cell_type": "code",
   "execution_count": null,
   "metadata": {},
   "outputs": [],
   "source": [
    "# Cantidad de datos en whiteWine\n",
    "print(\"Cantidad de datos en redWine: \", whiteWine.shape[0])"
   ]
  },
  {
   "cell_type": "code",
   "execution_count": null,
   "metadata": {},
   "outputs": [],
   "source": [
    "# Tipos de datos en WhiteWine\n",
    "print(\"White Wine:\")\n",
    "whiteWine.info()"
   ]
  },
  {
   "cell_type": "markdown",
   "metadata": {},
   "source": [
    "Se observa que no es necesario hacer algun cambio en los datos, ya que no hay datos categoricos"
   ]
  },
  {
   "cell_type": "code",
   "execution_count": null,
   "metadata": {},
   "outputs": [],
   "source": [
    "# Resumen de datos en relacion de WhiteWine en base al atributo 'quality'\n",
    "resumen_datos(whiteWine)"
   ]
  },
  {
   "cell_type": "markdown",
   "metadata": {},
   "source": [
    "### Graficos de Histogramas y Boxplots"
   ]
  },
  {
   "cell_type": "code",
   "execution_count": null,
   "metadata": {},
   "outputs": [],
   "source": [
    "# Cantidades de vinos por calidad\n",
    "sns.countplot(x='quality', data=whiteWine)"
   ]
  },
  {
   "cell_type": "code",
   "execution_count": null,
   "metadata": {},
   "outputs": [],
   "source": [
    "# Por cada atributo, mostrar histograma y boxplot\n",
    "for atributo in whiteWine.columns:\n",
    "  histograma_boxplot(whiteWine, atributo)"
   ]
  },
  {
   "cell_type": "markdown",
   "metadata": {},
   "source": [
    "### Deteccion de Outliers"
   ]
  },
  {
   "cell_type": "code",
   "execution_count": null,
   "metadata": {},
   "outputs": [],
   "source": [
    "# Deteccion de outliers en wine\n",
    "deteccion_outliers(whiteWine)"
   ]
  },
  {
   "cell_type": "markdown",
   "metadata": {},
   "source": [
    "### Analisis Asimetrías"
   ]
  },
  {
   "cell_type": "code",
   "execution_count": null,
   "metadata": {},
   "outputs": [],
   "source": [
    "# Detectar asimetria en redWine\n",
    "deteccion_asimetria(whiteWine)"
   ]
  },
  {
   "cell_type": "markdown",
   "metadata": {},
   "source": [
    "### Analisis de Correlaciones entre variables"
   ]
  },
  {
   "cell_type": "code",
   "execution_count": null,
   "metadata": {},
   "outputs": [],
   "source": [
    "# Coeficiente de correlación de Pearson\n",
    "plt.figure(figsize=(10,10))\n",
    "sns.heatmap(whiteWine.corr(method='pearson'), annot=True, cmap='RdYlGn')\n",
    "plt.show()"
   ]
  },
  {
   "cell_type": "code",
   "execution_count": null,
   "metadata": {},
   "outputs": [],
   "source": [
    "# Atributos con mayor correlacion entre ellos\n",
    "mayor_correlacion(whiteWine, max_valor=0.6)"
   ]
  },
  {
   "cell_type": "markdown",
   "metadata": {},
   "source": [
    "### Analisis de Correlaciones en relacion a la variable Quality"
   ]
  },
  {
   "cell_type": "code",
   "execution_count": null,
   "metadata": {},
   "outputs": [],
   "source": [
    "# Correlacion con la variable 'quality' del dataset wine a través de un mapa de calor\n",
    "plt.figure(figsize=(5,5))\n",
    "sns.heatmap(whiteWine.corr()[['quality']], annot=True, cmap='RdYlGn')\n",
    "plt.show()"
   ]
  },
  {
   "cell_type": "code",
   "execution_count": null,
   "metadata": {},
   "outputs": [],
   "source": [
    "# Atributos con mayor correlacion con 'quality'\n",
    "mayor_correlacion(whiteWine, atributo='quality')"
   ]
  }
 ],
 "metadata": {
  "kernelspec": {
   "display_name": "base",
   "language": "python",
   "name": "python3"
  },
  "language_info": {
   "codemirror_mode": {
    "name": "ipython",
    "version": 3
   },
   "file_extension": ".py",
   "mimetype": "text/x-python",
   "name": "python",
   "nbconvert_exporter": "python",
   "pygments_lexer": "ipython3",
   "version": "3.10.11"
  },
  "orig_nbformat": 4
 },
 "nbformat": 4,
 "nbformat_minor": 2
}
